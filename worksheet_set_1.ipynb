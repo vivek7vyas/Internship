{
 "cells": [
  {
   "cell_type": "code",
   "execution_count": 3,
   "metadata": {},
   "outputs": [
    {
     "name": "stdout",
     "output_type": "stream",
     "text": [
      "enter the number5\n",
      "factorial of 5 is 120\n"
     ]
    }
   ],
   "source": [
    "#find the factorial of a number answer 11\n",
    "import math\n",
    "def factorial(n):\n",
    "    return(math.factorial(n))\n",
    "num= int(input(\"enter the number\"))\n",
    "print(\"factorial of\",num,\"is\",factorial(num))"
   ]
  },
  {
   "cell_type": "code",
   "execution_count": 24,
   "metadata": {},
   "outputs": [
    {
     "name": "stdout",
     "output_type": "stream",
     "text": [
      "enter the number you want check12\n",
      "This is a composite number\n"
     ]
    }
   ],
   "source": [
    "#find prime number or composite number answer 12\n",
    "n=input('enter the number you want check')\n",
    "try:\n",
    "    n=int(n)\n",
    "except:\n",
    "    print('wrong number')\n",
    "    quit()\n",
    "if n==1 or n==0:\n",
    "    print('This is neither prime nor composite')\n",
    "else:\n",
    "    c=0\n",
    "    for i in range(2,n):\n",
    "        if n%i==0:\n",
    "            c=c+1\n",
    "    if c==0:\n",
    "            print(\"This is a prime number\")\n",
    "    else:\n",
    "            print(\"This is a composite number\")"
   ]
  },
  {
   "cell_type": "code",
   "execution_count": 27,
   "metadata": {},
   "outputs": [
    {
     "name": "stdout",
     "output_type": "stream",
     "text": [
      "Enter a stringradar\n",
      "This is a palindrome\n"
     ]
    }
   ],
   "source": [
    "#given string is palindrome or not answer 13\n",
    "string=input(\"Enter a string\")\n",
    "if(string==string[::-1]):\n",
    "    print(\"This is a palindrome\")\n",
    "else:\n",
    "    print(\"This is not a palindrome\")"
   ]
  },
  {
   "cell_type": "code",
   "execution_count": 29,
   "metadata": {},
   "outputs": [
    {
     "name": "stdout",
     "output_type": "stream",
     "text": [
      "hypotenuse =5.0\n",
      "adjacent =4.0\n",
      "opposite =3.0\n"
     ]
    }
   ],
   "source": [
    "#get the third side of right-angled triangle from two given sides. answer 14\n",
    "def pythagoras(opposite_side,adjacent_side,hypotenuse):\n",
    "        if opposite_side==str(\"x\"):\n",
    "            return (\"opposite =\"+str(((hypotenuse**2)-(adjacent_side**2))**0.5))\n",
    "        elif adjacent_side == str(\"x\"):\n",
    "            return (\"adjacent =\"+str(((hypotenuse**2)-(opposite_side**2))**0.5))\n",
    "        elif hypotenuse == str(\"x\"):\n",
    "            return (\"hypotenuse =\"+str(((opposite_side**2)+(adjacent_side**2))**0.5))\n",
    "        else:\n",
    "            return \"You know the answer\"\n",
    "print(pythagoras(3,4,'x'))\n",
    "print(pythagoras(3,'x',5))\n",
    "print(pythagoras('x',4,5))"
   ]
  },
  {
   "cell_type": "code",
   "execution_count": 36,
   "metadata": {},
   "outputs": [
    {
     "name": "stdout",
     "output_type": "stream",
     "text": [
      "Enter the string:vivekvyas\n",
      "v,1\n",
      "v,2\n",
      "v,3\n",
      "i,1\n",
      "e,1\n",
      "k,1\n",
      "y,1\n",
      "a,1\n",
      "s,1\n"
     ]
    }
   ],
   "source": [
    "#find the frequency of each characters in given string. answer 15\n",
    "string=input(\"Enter the string:\")\n",
    "str1=list(string)\n",
    "strlist=[]\n",
    "for j in str1:\n",
    "    if j not in strlist:\n",
    "        strlist.append(j)\n",
    "        count=0\n",
    "        for i in range(len(str1)):\n",
    "            if j==str1[i]:\n",
    "                count+=1\n",
    "                print(\"{},{}\".format(j,count))"
   ]
  },
  {
   "cell_type": "code",
   "execution_count": null,
   "metadata": {},
   "outputs": [],
   "source": []
  }
 ],
 "metadata": {
  "kernelspec": {
   "display_name": "Python 3",
   "language": "python",
   "name": "python3"
  },
  "language_info": {
   "codemirror_mode": {
    "name": "ipython",
    "version": 3
   },
   "file_extension": ".py",
   "mimetype": "text/x-python",
   "name": "python",
   "nbconvert_exporter": "python",
   "pygments_lexer": "ipython3",
   "version": "3.8.5"
  }
 },
 "nbformat": 4,
 "nbformat_minor": 4
}
